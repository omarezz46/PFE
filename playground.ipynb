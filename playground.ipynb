{
 "cells": [
  {
   "cell_type": "code",
   "execution_count": 20,
   "metadata": {},
   "outputs": [],
   "source": [
    "import pandas as pd \n",
    "from sklearn.feature_extraction.text import CountVectorizer\n",
    "from sklearn.decomposition import LatentDirichletAllocation\n",
    "from nltk.corpus import stopwords\n",
    "import nltk"
   ]
  },
  {
   "cell_type": "code",
   "execution_count": 3,
   "metadata": {},
   "outputs": [],
   "source": [
    "arxiv_df = pd.read_parquet(\"data/query_result.parquet\")"
   ]
  },
  {
   "cell_type": "code",
   "execution_count": 41,
   "metadata": {},
   "outputs": [],
   "source": [
    "# Function to split text into title, abstract, and body\n",
    "def split_text(text_list):\n",
    "    title = text_list[0][0]  # First list, first element\n",
    "    abstract = text_list[1][0]  # Second list, first element\n",
    "    body = \" \".join(\n",
    "        [\" \".join(paragraph) for paragraph in text_list[2:]]\n",
    "    )  # Join all subsequent lists as body\n",
    "\n",
    "    return title, abstract, body\n",
    "\n",
    "\n",
    "# Apply function to create new columns\n",
    "new_arxiv_df = arxiv_df.copy()\n",
    "new_arxiv_df[[\"title\", \"abstract\", \"body\"]] = arxiv_df[\"text\"].apply(\n",
    "    lambda x: pd.Series(split_text(x))\n",
    ")\n",
    "\n",
    "# Drop the old 'text' column if no longer needed\n",
    "new_arxiv_df = new_arxiv_df.drop(columns=[\"text\"])"
   ]
  },
  {
   "cell_type": "code",
   "execution_count": 43,
   "metadata": {},
   "outputs": [],
   "source": [
    "# List of keywords related to machine learning and deep learning\n",
    "keywords = [\n",
    "    \"machine learning\",\n",
    "    \"neural networks\",\n",
    "    \"deep learning\",\n",
    "    \"convolutional neural networks\",\n",
    "    \"reinforcement learning\",\n",
    "    \"supervised learning\",\n",
    "    \"unsupervised learning\",\n",
    "    \"transfer learning\",\n",
    "    \"generative models\",\n",
    "    \"natural language processing\",\n",
    "    \"computer vision\",\n",
    "    \"speech recognition\",\n",
    "]\n",
    "\n",
    "# Filter the DataFrame by checking if any keyword is in the 'abstract' or 'title' column\n",
    "filtered_df = new_arxiv_df[\n",
    "    new_arxiv_df[\"title\"].str.contains(\"|\".join(keywords), case=False, na=False)\n",
    "    | new_arxiv_df[\"abstract\"].str.contains(\"|\".join(keywords), case=False, na=False)\n",
    "]"
   ]
  },
  {
   "cell_type": "code",
   "execution_count": 45,
   "metadata": {},
   "outputs": [],
   "source": [
    "filtered_df.to_parquet('./filtered_df_arxiv.parquet')"
   ]
  }
 ],
 "metadata": {
  "kernelspec": {
   "display_name": "my_env",
   "language": "python",
   "name": "python3"
  },
  "language_info": {
   "codemirror_mode": {
    "name": "ipython",
    "version": 3
   },
   "file_extension": ".py",
   "mimetype": "text/x-python",
   "name": "python",
   "nbconvert_exporter": "python",
   "pygments_lexer": "ipython3",
   "version": "3.10.3"
  }
 },
 "nbformat": 4,
 "nbformat_minor": 2
}
